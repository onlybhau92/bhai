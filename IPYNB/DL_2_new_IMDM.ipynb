{
 "cells": [
  {
   "cell_type": "code",
   "execution_count": 1,
   "id": "98651158-7251-453b-9581-97877311ab28",
   "metadata": {},
   "outputs": [],
   "source": [
    "import pandas as pd\n",
    "import numpy as np\n",
    "from tensorflow.keras.preprocessing.text import Tokenizer\n",
    "from sklearn.model_selection import train_test_split\n",
    "from tensorflow.keras.models import Sequential\n",
    "from tensorflow.keras.layers import Dense\n"
   ]
  },
  {
   "cell_type": "code",
   "execution_count": 5,
   "id": "4f27405b-99a0-4d52-970c-75a026a3d5b6",
   "metadata": {},
   "outputs": [],
   "source": [
    "# 1. Load dataset\n",
    "df = pd.read_csv('IMDB Dataset.csv')"
   ]
  },
  {
   "cell_type": "code",
   "execution_count": 7,
   "id": "9948825a-e656-4e2e-abbc-7fba08d64208",
   "metadata": {},
   "outputs": [],
   "source": [
    "# 2. Convert labels: positive -> 1, negative -> 0\n",
    "df['sentiment'] = df['sentiment'].map({'positive': 1, 'negative': 0})"
   ]
  },
  {
   "cell_type": "code",
   "execution_count": 9,
   "id": "92ade591-8bc8-483b-93d5-846d8e106183",
   "metadata": {},
   "outputs": [],
   "source": [
    "# 3. Extract text and labels\n",
    "texts = df['review'].astype(str).tolist()\n",
    "labels = df['sentiment'].astype(int).tolist()"
   ]
  },
  {
   "cell_type": "code",
   "execution_count": 11,
   "id": "56dc2a5d-bc37-4a37-80fd-fbfb2d9f060e",
   "metadata": {},
   "outputs": [],
   "source": [
    "# 4. Tokenize text\n",
    "max_words = 10000\n",
    "tokenizer = Tokenizer(num_words=max_words)\n",
    "tokenizer.fit_on_texts(texts)"
   ]
  },
  {
   "cell_type": "code",
   "execution_count": 12,
   "id": "113d8daa-c63a-415a-a35c-da557eeafdc3",
   "metadata": {},
   "outputs": [],
   "source": [
    "# 5. Convert texts to binary matrix (bag of words model)\n",
    "x_data = tokenizer.texts_to_matrix(texts, mode='binary')\n",
    "y_data = np.array(labels).astype('float32')"
   ]
  },
  {
   "cell_type": "code",
   "execution_count": 13,
   "id": "90eed7e7-b4c6-4fca-8f12-ec4ac01ef7f9",
   "metadata": {},
   "outputs": [],
   "source": [
    "# 6. Split into train and test sets\n",
    "x_train, x_test, y_train, y_test = train_test_split(x_data, y_data, test_size=0.3, random_state=42)"
   ]
  },
  {
   "cell_type": "code",
   "execution_count": 15,
   "id": "f56bcb71-7db0-4148-b77e-eee9a2c30793",
   "metadata": {},
   "outputs": [
    {
     "name": "stderr",
     "output_type": "stream",
     "text": [
      "C:\\Users\\Pratik\\anaconda3\\Lib\\site-packages\\keras\\src\\layers\\core\\dense.py:87: UserWarning: Do not pass an `input_shape`/`input_dim` argument to a layer. When using Sequential models, prefer using an `Input(shape)` object as the first layer in the model instead.\n",
      "  super().__init__(activity_regularizer=activity_regularizer, **kwargs)\n"
     ]
    }
   ],
   "source": [
    "# 7. Build model\n",
    "model = Sequential()\n",
    "model.add(Dense(16, activation='relu', input_shape=(max_words,)))\n",
    "model.add(Dense(16, activation='relu'))\n",
    "model.add(Dense(1, activation='sigmoid'))"
   ]
  },
  {
   "cell_type": "code",
   "execution_count": 16,
   "id": "11392903-f193-4bda-9297-116353958fca",
   "metadata": {},
   "outputs": [],
   "source": [
    "# 8. Compile model\n",
    "model.compile(optimizer='adam', loss='binary_crossentropy', metrics=['accuracy'])"
   ]
  },
  {
   "cell_type": "code",
   "execution_count": 17,
   "id": "d3c9eeb2-7b21-48c8-8d2d-1ae8d8b07ee1",
   "metadata": {},
   "outputs": [
    {
     "name": "stdout",
     "output_type": "stream",
     "text": [
      "Epoch 1/10\n",
      "\u001b[1m55/55\u001b[0m \u001b[32m━━━━━━━━━━━━━━━━━━━━\u001b[0m\u001b[37m\u001b[0m \u001b[1m5s\u001b[0m 23ms/step - accuracy: 0.7254 - loss: 0.5726 - val_accuracy: 0.8906 - val_loss: 0.2967\n",
      "Epoch 2/10\n",
      "\u001b[1m55/55\u001b[0m \u001b[32m━━━━━━━━━━━━━━━━━━━━\u001b[0m\u001b[37m\u001b[0m \u001b[1m1s\u001b[0m 13ms/step - accuracy: 0.9135 - loss: 0.2469 - val_accuracy: 0.8951 - val_loss: 0.2662\n",
      "Epoch 3/10\n",
      "\u001b[1m55/55\u001b[0m \u001b[32m━━━━━━━━━━━━━━━━━━━━\u001b[0m\u001b[37m\u001b[0m \u001b[1m1s\u001b[0m 14ms/step - accuracy: 0.9379 - loss: 0.1775 - val_accuracy: 0.8929 - val_loss: 0.2738\n",
      "Epoch 4/10\n",
      "\u001b[1m55/55\u001b[0m \u001b[32m━━━━━━━━━━━━━━━━━━━━\u001b[0m\u001b[37m\u001b[0m \u001b[1m1s\u001b[0m 13ms/step - accuracy: 0.9522 - loss: 0.1423 - val_accuracy: 0.8903 - val_loss: 0.2947\n",
      "Epoch 5/10\n",
      "\u001b[1m55/55\u001b[0m \u001b[32m━━━━━━━━━━━━━━━━━━━━\u001b[0m\u001b[37m\u001b[0m \u001b[1m1s\u001b[0m 12ms/step - accuracy: 0.9640 - loss: 0.1174 - val_accuracy: 0.8857 - val_loss: 0.3231\n",
      "Epoch 6/10\n",
      "\u001b[1m55/55\u001b[0m \u001b[32m━━━━━━━━━━━━━━━━━━━━\u001b[0m\u001b[37m\u001b[0m \u001b[1m1s\u001b[0m 12ms/step - accuracy: 0.9693 - loss: 0.0976 - val_accuracy: 0.8814 - val_loss: 0.3520\n",
      "Epoch 7/10\n",
      "\u001b[1m55/55\u001b[0m \u001b[32m━━━━━━━━━━━━━━━━━━━━\u001b[0m\u001b[37m\u001b[0m \u001b[1m1s\u001b[0m 11ms/step - accuracy: 0.9770 - loss: 0.0807 - val_accuracy: 0.8771 - val_loss: 0.3885\n",
      "Epoch 8/10\n",
      "\u001b[1m55/55\u001b[0m \u001b[32m━━━━━━━━━━━━━━━━━━━━\u001b[0m\u001b[37m\u001b[0m \u001b[1m1s\u001b[0m 12ms/step - accuracy: 0.9821 - loss: 0.0667 - val_accuracy: 0.8746 - val_loss: 0.4316\n",
      "Epoch 9/10\n",
      "\u001b[1m55/55\u001b[0m \u001b[32m━━━━━━━━━━━━━━━━━━━━\u001b[0m\u001b[37m\u001b[0m \u001b[1m1s\u001b[0m 12ms/step - accuracy: 0.9860 - loss: 0.0561 - val_accuracy: 0.8713 - val_loss: 0.4713\n",
      "Epoch 10/10\n",
      "\u001b[1m55/55\u001b[0m \u001b[32m━━━━━━━━━━━━━━━━━━━━\u001b[0m\u001b[37m\u001b[0m \u001b[1m1s\u001b[0m 13ms/step - accuracy: 0.9910 - loss: 0.0426 - val_accuracy: 0.8703 - val_loss: 0.5142\n"
     ]
    }
   ],
   "source": [
    "# 9. Train model\n",
    "history = model.fit(x_train, y_train, epochs=10, batch_size=512, validation_split=0.2, verbose=1)"
   ]
  },
  {
   "cell_type": "code",
   "execution_count": 18,
   "id": "50cdd85c-c3e1-4558-8ff6-f0962268b094",
   "metadata": {},
   "outputs": [
    {
     "name": "stdout",
     "output_type": "stream",
     "text": [
      "\u001b[1m469/469\u001b[0m \u001b[32m━━━━━━━━━━━━━━━━━━━━\u001b[0m\u001b[37m\u001b[0m \u001b[1m2s\u001b[0m 4ms/step - accuracy: 0.8650 - loss: 0.5079\n",
      "\n",
      "Test Accuracy: 0.8681, Test Loss: 0.5108\n"
     ]
    }
   ],
   "source": [
    "# 10. Evaluate\n",
    "test_loss, test_acc = model.evaluate(x_test, y_test)\n",
    "print(f\"\\nTest Accuracy: {test_acc:.4f}, Test Loss: {test_loss:.4f}\")"
   ]
  },
  {
   "cell_type": "code",
   "execution_count": 20,
   "id": "9efe4492-ae51-424f-8d76-e8d674bd674e",
   "metadata": {},
   "outputs": [
    {
     "name": "stdout",
     "output_type": "stream",
     "text": [
      "\u001b[1m469/469\u001b[0m \u001b[32m━━━━━━━━━━━━━━━━━━━━\u001b[0m\u001b[37m\u001b[0m \u001b[1m1s\u001b[0m 2ms/step\n"
     ]
    }
   ],
   "source": [
    "# 11. Predict on test set\n",
    "predictions = model.predict(x_test)"
   ]
  },
  {
   "cell_type": "code",
   "execution_count": 22,
   "id": "47040996-db6b-4f7a-acb6-feab1b8882dd",
   "metadata": {},
   "outputs": [
    {
     "name": "stdout",
     "output_type": "stream",
     "text": [
      "Review 1: Predicted = 1, Actual = 1\n",
      "Review 2: Predicted = 1, Actual = 1\n",
      "Review 3: Predicted = 0, Actual = 0\n",
      "Review 4: Predicted = 1, Actual = 1\n",
      "Review 5: Predicted = 0, Actual = 0\n",
      "Review 6: Predicted = 1, Actual = 1\n",
      "Review 7: Predicted = 1, Actual = 1\n",
      "Review 8: Predicted = 0, Actual = 1\n",
      "Review 9: Predicted = 0, Actual = 0\n",
      "Review 10: Predicted = 0, Actual = 0\n"
     ]
    }
   ],
   "source": [
    "# 12. Show sample predictions\n",
    "for i in range(10):\n",
    "    predicted_label = 1 if predictions[i] >= 0.5 else 0\n",
    "    print(f\"Review {i+1}: Predicted = {predicted_label}, Actual = {int(y_test[i])}\")"
   ]
  },
  {
   "cell_type": "code",
   "execution_count": null,
   "id": "258418c6-77e8-4f1a-b02b-2557e9bbbfc3",
   "metadata": {},
   "outputs": [],
   "source": []
  }
 ],
 "metadata": {
  "kernelspec": {
   "display_name": "Python [conda env:base] *",
   "language": "python",
   "name": "conda-base-py"
  },
  "language_info": {
   "codemirror_mode": {
    "name": "ipython",
    "version": 3
   },
   "file_extension": ".py",
   "mimetype": "text/x-python",
   "name": "python",
   "nbconvert_exporter": "python",
   "pygments_lexer": "ipython3",
   "version": "3.12.7"
  }
 },
 "nbformat": 4,
 "nbformat_minor": 5
}
