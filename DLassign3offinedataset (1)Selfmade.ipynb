{
  "cells": [
    {
      "cell_type": "code",
      "execution_count": null,
      "metadata": {
        "id": "0It9e5i6rMqI"
      },
      "outputs": [],
      "source": [
        "#yaha se code lo ye pura running hai\n",
        "#sabse sahi code\n",
        "\n",
        "import numpy as np\n",
        "import pandas as pd\n",
        "import matplotlib.pyplot as plt\n",
        "from tensorflow.keras.models import Sequential\n",
        "from tensorflow.keras.layers import Dense, Flatten, MaxPooling2D, Conv2D\n",
        "from tensorflow.keras.utils import to_categorical\n",
        "from sklearn.model_selection import train_test_split\n",
        "\n",
        "# 1. Load CSV files\n",
        "train_df = pd.read_csv('fashion-mnist_train.csv')\n",
        "test_df = pd.read_csv('fashion-mnist_test.csv')\n",
        "\n",
        "# 2. Separate features and labels\n",
        "train_x = train_df.drop('label', axis=1).values\n",
        "train_y = train_df['label'].values\n",
        "\n",
        "test_x = test_df.drop('label', axis=1).values\n",
        "test_y = test_df['label'].values\n",
        "\n",
        "# 3. Normalize pixel values and reshape\n",
        "train_x = train_x / 255.0\n",
        "test_x = test_x / 255.0\n",
        "\n",
        "train_x = train_x.reshape(-1, 28, 28, 1)\n",
        "test_x = test_x.reshape(-1, 28, 28, 1)\n",
        "\n",
        "# 4. Build the model\n",
        "model = Sequential()\n",
        "model.add(Conv2D(filters=64, kernel_size=(3,3), activation='relu', input_shape=(28, 28, 1)))\n",
        "model.add(MaxPooling2D(pool_size=(2,2)))\n",
        "model.add(Flatten())\n",
        "model.add(Dense(128, activation='relu'))\n",
        "model.add(Dense(10, activation='softmax'))\n",
        "\n",
        "model.summary()\n",
        "\n",
        "# 5. Compile the model\n",
        "model.compile(optimizer='adam', loss='sparse_categorical_crossentropy', metrics=['accuracy'])\n",
        "\n",
        "# 6. Train the model\n",
        "model.fit(train_x, train_y, epochs=5, validation_split=0.1)\n",
        "\n",
        "# 7. Evaluate\n",
        "loss, acc = model.evaluate(test_x, test_y)\n",
        "print(f\"Test Loss: {loss:.4f}, Test Accuracy: {acc:.4f}\")\n",
        "\n",
        "# 8. Prediction\n",
        "labels = ['t_shirt', 'trouser', 'pullover', 'dress', 'coat',\n",
        "          'sandal', 'shirt', 'sneaker', 'bag', 'ankle_boots']\n",
        "\n",
        "predictions = model.predict(test_x[:1])\n",
        "predicted_label = labels[np.argmax(predictions)]\n",
        "\n",
        "print(\"Predicted Label:\", predicted_label)\n",
        "plt.imshow(test_x[0].reshape(28, 28), cmap='gray')\n",
        "plt.title(f\"Predicted: {predicted_label}\")\n",
        "plt.axis('off')\n",
        "plt.show()\n",
        "\n",
        "\n",
        "\n"
      ]
    },
    {
      "cell_type": "code",
      "execution_count": null,
      "metadata": {},
      "outputs": [],
      "source": [
        "import pandas as pd\n",
        "import numpy as np\n",
        "\n",
        "# Load data\n",
        "train_df = pd.read_csv('fashion-mnist_train.csv')\n",
        "test_df = pd.read_csv('fashion-mnist_test.csv')\n",
        "\n",
        "# Split into features and labels\n",
        "train_x = train_df.iloc[:, 1:].values / 255.0\n",
        "train_y = train_df.iloc[:, 0].values\n",
        "\n",
        "test_x = test_df.iloc[:, 1:].values / 255.0\n",
        "test_y = test_df.iloc[:, 0].values\n",
        "\n",
        "# Reshape for CNN input\n",
        "train_x = train_x.reshape(-1, 28, 28, 1).astype(np.float32)\n",
        "test_x = test_x.reshape(-1, 28, 28, 1).astype(np.float32)"
      ]
    },
    {
      "cell_type": "code",
      "execution_count": 2,
      "metadata": {
        "colab": {
          "base_uri": "https://localhost:8080/"
        },
        "id": "RO5MP_dJr9AD",
        "outputId": "bf9e8d60-ae02-446f-b922-9891c7ce1a6d"
      },
      "outputs": [
        {
          "name": "stderr",
          "output_type": "stream",
          "text": [
            "/usr/local/lib/python3.11/dist-packages/keras/src/layers/convolutional/base_conv.py:107: UserWarning: Do not pass an `input_shape`/`input_dim` argument to a layer. When using Sequential models, prefer using an `Input(shape)` object as the first layer in the model instead.\n",
            "  super().__init__(activity_regularizer=activity_regularizer, **kwargs)\n"
          ]
        }
      ],
      "source": [
        "from tensorflow.keras.models import Sequential\n",
        "from tensorflow.keras.layers import Conv2D, MaxPooling2D, Flatten, Dense\n",
        "\n",
        "model = Sequential()\n",
        "model.add(Conv2D(64, (3,3), activation='relu', input_shape=(28,28,1)))\n",
        "model.add(MaxPooling2D((2,2)))\n",
        "model.add(Flatten())\n",
        "model.add(Dense(128, activation='relu'))\n",
        "model.add(Dense(10, activation='softmax'))  # 10 classes\n"
      ]
    },
    {
      "cell_type": "code",
      "execution_count": 3,
      "metadata": {
        "colab": {
          "base_uri": "https://localhost:8080/"
        },
        "id": "Iwy3S4mGsCnZ",
        "outputId": "1d879c45-dfb9-4904-f2f2-9c7cce8533fd"
      },
      "outputs": [
        {
          "name": "stdout",
          "output_type": "stream",
          "text": [
            "Epoch 1/5\n",
            "\u001b[1m1500/1500\u001b[0m \u001b[32m━━━━━━━━━━━━━━━━━━━━\u001b[0m\u001b[37m\u001b[0m \u001b[1m63s\u001b[0m 41ms/step - accuracy: 0.8170 - loss: 0.5207 - val_accuracy: 0.8877 - val_loss: 0.3117\n",
            "Epoch 2/5\n",
            "\u001b[1m1500/1500\u001b[0m \u001b[32m━━━━━━━━━━━━━━━━━━━━\u001b[0m\u001b[37m\u001b[0m \u001b[1m58s\u001b[0m 39ms/step - accuracy: 0.9011 - loss: 0.2725 - val_accuracy: 0.8904 - val_loss: 0.2943\n",
            "Epoch 3/5\n",
            "\u001b[1m1500/1500\u001b[0m \u001b[32m━━━━━━━━━━━━━━━━━━━━\u001b[0m\u001b[37m\u001b[0m \u001b[1m83s\u001b[0m 40ms/step - accuracy: 0.9185 - loss: 0.2202 - val_accuracy: 0.9040 - val_loss: 0.2775\n",
            "Epoch 4/5\n",
            "\u001b[1m1500/1500\u001b[0m \u001b[32m━━━━━━━━━━━━━━━━━━━━\u001b[0m\u001b[37m\u001b[0m \u001b[1m60s\u001b[0m 40ms/step - accuracy: 0.9340 - loss: 0.1823 - val_accuracy: 0.9093 - val_loss: 0.2670\n",
            "Epoch 5/5\n",
            "\u001b[1m1500/1500\u001b[0m \u001b[32m━━━━━━━━━━━━━━━━━━━━\u001b[0m\u001b[37m\u001b[0m \u001b[1m62s\u001b[0m 41ms/step - accuracy: 0.9456 - loss: 0.1545 - val_accuracy: 0.9129 - val_loss: 0.2623\n"
          ]
        },
        {
          "data": {
            "text/plain": [
              "<keras.src.callbacks.history.History at 0x7da34199fa90>"
            ]
          },
          "execution_count": 3,
          "metadata": {},
          "output_type": "execute_result"
        }
      ],
      "source": [
        "model.compile(optimizer='adam', loss='sparse_categorical_crossentropy', metrics=['accuracy'])\n",
        "\n",
        "# Train the model\n",
        "model.fit(train_x, train_y, epochs=5, validation_split=0.2)\n"
      ]
    },
    {
      "cell_type": "code",
      "execution_count": 4,
      "metadata": {
        "colab": {
          "base_uri": "https://localhost:8080/",
          "height": 482
        },
        "id": "v2cIjc6Turjk",
        "outputId": "28e3bb72-93d3-488e-ee62-6470248ddb4f"
      },
      "outputs": [
        {
          "name": "stdout",
          "output_type": "stream",
          "text": [
            "\u001b[1m313/313\u001b[0m \u001b[32m━━━━━━━━━━━━━━━━━━━━\u001b[0m\u001b[37m\u001b[0m \u001b[1m4s\u001b[0m 11ms/step - accuracy: 0.9143 - loss: 0.2521\n",
            "Test Accuracy: 91.65%\n",
            "\u001b[1m1/1\u001b[0m \u001b[32m━━━━━━━━━━━━━━━━━━━━\u001b[0m\u001b[37m\u001b[0m \u001b[1m0s\u001b[0m 99ms/step\n"
          ]
        },
        {
          "data": {
            "image/png": "[encoded data removed]",
            "text/plain": [
              "<Figure size 640x480 with 1 Axes>"
            ]
          },
          "metadata": {},
          "output_type": "display_data"
        }
      ],
      "source": [
        "# Evaluate\n",
        "loss, accuracy = model.evaluate(test_x, test_y)\n",
        "print(f\"Test Accuracy: {accuracy*100:.2f}%\")\n",
        "\n",
        "# Predict a sample\n",
        "labels = ['T-shirt/top', 'Trouser', 'Pullover', 'Dress', 'Coat',\n",
        "          'Sandal', 'Shirt', 'Sneaker', 'Bag', 'Ankle boot']\n",
        "\n",
        "import matplotlib.pyplot as plt\n",
        "pred = model.predict(test_x[:1])\n",
        "predicted_label = labels[np.argmax(pred)]\n",
        "\n",
        "plt.imshow(test_x[0].reshape(28, 28), cmap='gray')\n",
        "plt.title(f\"Predicted: {predicted_label}\")\n",
        "plt.axis('off')\n",
        "plt.show()\n"
      ]
    },
    {
      "cell_type": "code",
      "execution_count": 6,
      "metadata": {
        "colab": {
          "base_uri": "https://localhost:8080/",
          "height": 482
        },
        "id": "wvuTCTGRwX6v",
        "outputId": "ea676fba-07cd-4f0b-8b34-6072466ca6ad"
      },
      "outputs": [
        {
          "name": "stdout",
          "output_type": "stream",
          "text": [
            "\u001b[1m1/1\u001b[0m \u001b[32m━━━━━━━━━━━━━━━━━━━━\u001b[0m\u001b[37m\u001b[0m \u001b[1m0s\u001b[0m 69ms/step\n",
            "Actual Label: T-shirt/top\n",
            "Predicted Label: Sandal\n"
          ]
        },
        {
          "data": {
            "image/png": "[encoded data removed]",
            "text/plain": [
              "<Figure size 640x480 with 1 Axes>"
            ]
          },
          "metadata": {},
          "output_type": "display_data"
        }
      ],
      "source": [
        "target_label_index = labels.index('T-shirt/top')  # Change 'sneaker' to any other category\n",
        "\n",
        "# Loop to find the first test image of that category\n",
        "for i in range(len(test_y)):\n",
        "    if test_y[i] == target_label_index:\n",
        "        test_image = test_x[i].astype('float32') / 255.0\n",
        "        test_image = test_image.reshape(1, 28, 28, 1)\n",
        "\n",
        "        prediction = model.predict(test_image)\n",
        "        predicted_label = labels[np.argmax(prediction)]\n",
        "\n",
        "        print(f\"Actual Label: {labels[test_y[i]]}\")\n",
        "        print(f\"Predicted Label: {predicted_label}\")\n",
        "\n",
        "        plt.imshow(test_x[i], cmap='gray')\n",
        "        plt.title(f\"Predicted: {predicted_label}\")\n",
        "        plt.axis('off')\n",
        "        plt.show()\n",
        "        break  # Stop after showing the first match"
      ]
    }
  ],
  "metadata": {
    "colab": {
      "provenance": []
    },
    "kernelspec": {
      "display_name": "Python 3",
      "name": "python3"
    },
    "language_info": {
      "name": "python"
    }
  },
  "nbformat": 4,
  "nbformat_minor": 0
}
